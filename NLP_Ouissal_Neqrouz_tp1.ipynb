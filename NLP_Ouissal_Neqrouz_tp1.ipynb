{
  "nbformat": 4,
  "nbformat_minor": 0,
  "metadata": {
    "colab": {
      "provenance": []
    },
    "kernelspec": {
      "name": "python3",
      "display_name": "Python 3"
    },
    "language_info": {
      "name": "python"
    }
  },
  "cells": [
    {
      "cell_type": "code",
      "execution_count": 42,
      "metadata": {
        "id": "F9kCoaj1R1PQ"
      },
      "outputs": [],
      "source": [
        "!pip install -q kaggle\n",
        "!mkdir -p ~/.kaggle\n",
        "!cp kaggle.json ~/.kaggle/\n",
        "!chmod 600 ~/.kaggle/kaggle.json"
      ]
    },
    {
      "cell_type": "code",
      "source": [
        "!kaggle datasets download -d thoughtvector/customer-support-on-twitter"
      ],
      "metadata": {
        "colab": {
          "base_uri": "https://localhost:8080/"
        },
        "id": "8JNJI0QeVWrN",
        "outputId": "f4977601-c2e1-4d57-b8e2-d4ebad91c052"
      },
      "execution_count": 43,
      "outputs": [
        {
          "output_type": "stream",
          "name": "stdout",
          "text": [
            "customer-support-on-twitter.zip: Skipping, found more recently modified local copy (use --force to force download)\n"
          ]
        }
      ]
    },
    {
      "cell_type": "code",
      "source": [
        "!unzip /content/customer-support-on-twitter.zip"
      ],
      "metadata": {
        "colab": {
          "base_uri": "https://localhost:8080/"
        },
        "id": "ZW1iyW36XKa7",
        "outputId": "71dd97ab-f586-4ba7-d12d-d4e9452db582"
      },
      "execution_count": 44,
      "outputs": [
        {
          "output_type": "stream",
          "name": "stdout",
          "text": [
            "Archive:  /content/customer-support-on-twitter.zip\n",
            "replace sample.csv? [y]es, [n]o, [A]ll, [N]one, [r]ename: "
          ]
        }
      ]
    },
    {
      "cell_type": "code",
      "source": [
        "import pandas as pd\n",
        "import numpy as np\n",
        "import matplotlib.pyplot as plt\n",
        "import re\n",
        "import nltk\n",
        "from nltk.tokenize import word_tokenize\n",
        "from nltk.corpus import stopwords\n",
        "from nltk.stem import PorterStemmer\n",
        "from nltk.stem import WordNetLemmatizer"
      ],
      "metadata": {
        "id": "v0ZhILH7XX1Z"
      },
      "execution_count": 46,
      "outputs": []
    },
    {
      "cell_type": "code",
      "source": [
        "nltk.download('stopwords')\n",
        "nltk.download('punkt')\n",
        "nltk.download('wordnet')"
      ],
      "metadata": {
        "colab": {
          "base_uri": "https://localhost:8080/"
        },
        "id": "_gll3b0KcE36",
        "outputId": "54084b72-d566-4e48-c9ee-ebcae41448e5"
      },
      "execution_count": 47,
      "outputs": [
        {
          "output_type": "stream",
          "name": "stderr",
          "text": [
            "[nltk_data] Downloading package stopwords to /root/nltk_data...\n",
            "[nltk_data]   Package stopwords is already up-to-date!\n",
            "[nltk_data] Downloading package punkt to /root/nltk_data...\n",
            "[nltk_data]   Package punkt is already up-to-date!\n",
            "[nltk_data] Downloading package wordnet to /root/nltk_data...\n",
            "[nltk_data]   Package wordnet is already up-to-date!\n"
          ]
        },
        {
          "output_type": "execute_result",
          "data": {
            "text/plain": [
              "True"
            ]
          },
          "metadata": {},
          "execution_count": 47
        }
      ]
    },
    {
      "cell_type": "code",
      "source": [
        "df = pd.read_csv('/content/sample.csv')"
      ],
      "metadata": {
        "id": "gzP70P5DXchE"
      },
      "execution_count": 62,
      "outputs": []
    },
    {
      "cell_type": "code",
      "source": [
        "for index, row in df.iterrows():\n",
        "    print(row['text'])"
      ],
      "metadata": {
        "colab": {
          "base_uri": "https://localhost:8080/"
        },
        "id": "HBQVo6x69w19",
        "outputId": "74c60e61-e425-4dcb-9398-81e9dc7721fd"
      },
      "execution_count": 63,
      "outputs": [
        {
          "output_type": "stream",
          "name": "stdout",
          "text": [
            "@AppleSupport causing the reply to be disregarded and the tapped notification under the keyboard is opened😡😡😡\n",
            "@105835 Your business means a lot to us. Please DM your name, zip code and additional details about your concern. ^RR https://t.co/znUu1VJn9r\n",
            "@76328 I really hope you all change but I'm sure you won't! Because you don't have to!\n",
            "@105836 LiveChat is online at the moment - https://t.co/SY94VtU8Kq or contact 03331 031 031 option 1, 4, 3 (Leave a message) to request a call back\n",
            "@VirginTrains see attached error message. I've tried leaving a voicemail several times in the past week https://t.co/NxVZjlYx1k\n",
            "@105836 Have you tried from another device, Miriam ^MM\n",
            "@VirginTrains yep, I've tried laptop too several times over the past week and again today. I've tried different browsers too\n",
            "@105836 It's working OK from here, Miriam. Does this link help https://t.co/0m2mpH15eh ? ^MM\n",
            "@VirginTrains I still haven't heard &amp; the number I'm directed to by phone is a dead end &amp; the live chat doesn't work. Can someone call me?\n",
            "@105836 That's what we're here for Miriam 😊  The team should send you an email shortly ^HP\n",
            "@105837 We can help. Which version of iOS are you on? You can find that in Settings &gt; General &gt; About. Reply in DM. https://t.co/GDrqU22YpT\n",
            "@105838 @AppleSupport Me too am suffering , hope the can find a solution\n",
            "@AppleSupport hi #apple, I’ve a concern about the latest ios is too slow on #iphone6 and i am not happy with it. Any solution please?\n",
            "@105839 Thanks for reaching out to us. We are always happy to help. Send us a DM so we can look into this together. https://t.co/GDrqU22YpT\n",
            "I just updated my phone and suddenly everything takes ages to load wtf @76099 this update sux I hate it fix it bye\n",
            "@105840 Hi there! What device is this happening on? If you could also let us know the Android and Spotify versions you're using, that'd be great /AY\n",
            "@SpotifyCares Thanks! Version 8.4.22.857 armv7 on anker bluetooth speaker on Samsung Galaxy Tab A (2016) Model SM-T280 Does distance from speaker matter?\n",
            "@105840 Thanks. The distance could possibly affect playback. Does logging out &gt; restarting your device &gt; logging back in make a difference? /AY\n",
            "@SpotifyCares No, but I've moved speaker to about 1 metre away and it's not skipping at the mo - it was about 3 or 4 metres away before. Fingers crossed!\n",
            "@105840 That's great to hear. If anything comes up, just let us know. We'll carry on helping out 🙂 /AY\n",
            "@SpotifyCares Brilliant thanks 😊\n",
            "@105840 You're welcome! If there's anything else we can help with, just give us a shout. We're here for you 😉 /CP\n",
            "@76495 @91226 Please help! Spotify Premium skipping through songs constantly on android tablet &amp; bluetooth speaker. Tried everything!\n",
            "@105841 We'd love to help! Please DM us and let us know any steps you've tried since experiencing these behaviors. https://t.co/GDrqU22YpT\n",
            "@AppleSupport after the 11.0.2 my phone just sucks most of the apps are broken, wifi disconnects frequently #apple #ios1102 #painfulupdate\n",
            "@105842 We're sorry your flight has been delayed, Beatner. Are you travelling on the BA8733? If so, the updated departure time we have is 15:30. 1/2\n",
            "First flight for long time with @British_Airways. Now over one 1h delay for the short jump FRA-LCY and NO one here to provide status updates\n",
            "@105843 Battery life is important, and we're here for you. DM us the iOS version your iPhone is running. We'll go from there. https://t.co/GDrqU22YpT\n",
            "Okay @76099 I used my fucking phone for 2 minutes and it drains it down 8 fucking percent\n",
            "@105844 Thanks for reaching out to us. We are always happy to help. Send us a DM so we can look into this together. https://t.co/GDrqU22YpT\n",
            "@AppleSupport Can you get my iPhone 7plus back on the old iOS please?  Battery runs out in half the time, apps now frequently crash.\n",
            "@105844 We'd be happy to help. Send us a DM and we can start there. https://t.co/GDrqU22YpT\n",
            "You’ve paralysed my phone with your update @76099 grrrrrrrrrr\n",
            "@82476 🤔 We'd like to help Sam, which number is calling you? Please DM us more info so we can advise further. https://t.co/5pyLDJBC6r\n",
            "@O2 I received this a few weeks ago, since then I've been getting 2/3 calls a day from a telemarketer. Is someone using your name? https://t.co/GLtz4XHcex\n",
            "@105845 I understand this is a frustrating experience, please send a DM with your account information so I can look into this matter for you. -AD\n",
            "My internet is down and xfinity talkin about 24-72 hours... y’all have the game messed up. \n",
            "\n",
            "@77245\n",
            "@105676 I understand how you frustrated this situation can be. Please follow us by sending a DM for further assistance. Sprint Cares. -AC\n",
            "@76803  I service last 40 min sprint can I get a refund https://t.co/wYPw9hP6wt\n",
            "@105846 We'd like to help. What happens when you try to listen to Apple Music &amp; use WhatsApp? Does the music pause? Let us know in DM. https://t.co/GDrqU22YpT\n",
            "So the new @76099 update does not let me listen to music and go on whatsapp at the same time?!?\n",
            "@105847 Hi Harry! Help's here. Can you check if logging out &gt; restarting your device &gt; logging back in makes a difference? Keep us posted /MU\n",
            "@SpotifyCares seems to be working at this stage. Will let you know if it happens again. Cheers\n",
            "@105847 Sure thing. We'll keep an eye out for your update /MU\n",
            "@SpotifyCares problem has come back again today. is there some kind of bug?\n",
            "@105847 Thanks for giving us a nudge about this. What device, operating system, and Spotify version is this happening on? /AY\n",
            "@SpotifyCares It's on a Macbook Air (early 2014), running High Sierra, spotify version 1.0.65.320.gac7a8e02\n",
            "@105847 Got it. Can you try the steps here for us: https://t.co/EqisDMwZAT? They should help with this. Let us know how it plays out /AY\n",
            "@SpotifyCares i've been having issues with playback. songs have been stopping midway through and won't restart unless i close and reopen app\n",
            "@105848 Let's take a look. What is the exact iOS you're using? Are you using any specific apps when noticing this? DM us your reply. https://t.co/GDrqU22YpT\n",
            "@AppleSupport Latest version 😡😡 I have read the help page turned off virtually all apps and location svs too - but in typing this I dropped 3% life\n",
            "@AppleSupport Super help - problem solved 😀 once again in love with Apple\n",
            "@AppleSupport #ios11update - is still killing my battery within 12 hours - phone is 10 months old - it’s a disgrace - used to get 2 days\n",
            "@105849 Thanks for reaching out to us. We are always happy to help. Send us a DM so we can look into this together. https://t.co/GDrqU22YpT\n",
            "Took my phone off charge at 7:20am.\n",
            "\n",
            "8:03am - 60% battery remaining.\n",
            "\n",
            "@76099 plz I beg you, sort your battery life out😩\n",
            "@105850 Once the points load and you hit the number, you get it immediately! You'll even receive a congrats email. Are you almost there? ^AC\n",
            "@SouthwestAir I am! Thank you for the answer!!\n",
            "@southwestair Just curious....will I get the companion pass the exact moment I get enough points? It will I have to wait? Thanks!\n",
            "@105851 We'd like to provide some assistance with this. Tell us more about the issue you're experiencing in DM. We'll go from there. https://t.co/GDrqU22YpT\n",
            "@AppleSupport I need a new code for my I-store. I haven’t recd any but msg is too many sent. Help!\n",
            "@105852 Are you experiencing an issue with your device? If so, DM us with what's going on. We'll see how we can help from there. https://t.co/GDrqU22YpT\n",
            "@76099 @AppleSupport fix this update. It’s horrible\n",
            "@105842 I appreciate it's after 15:30 now, so hopefully you will depart very soon. We're sorry for any inconvenience the delay has caused. 2/2 ^JR\n",
            "@British_Airways Thanks for your answer. Response onsite was that Aircraft will not depart today, so rebooking to @105853 with now 4h delay...\n",
            "@105842 Very sorry to hear this.  We hope you get everything sorted.   Kind Regards ^Jools\n",
            "@105854 I am sorry for the poor experience. Can you please DM the full service address and name on the account, as we ass... https://t.co/JEZhqGdBMd\n",
            "@Ask_Spectrum It's just in my yard. I've called 4-5 times in 6 weeks. I'm not a customer but it's pretty tempting. I do have some coaxial\n",
            "@76501 I guess this means free cable for the neighborhood. https://t.co/FBgEE9YXPm\n",
            "@105855 Hi Thomas, if a colleague believes the person buying alcohol looks under 25, they will be challenged for ID to prove they're of age. - Paige\n",
            "@Tesco Maybe hire colleagues who can see?\n",
            "@Tesco The point is if it's enforced they do it properly or they don't. Plus take some common-sense and think does that person look over 18?\n",
            "@105855 Hi Thomas, this is correct but this helps our store colleagues judge age and protect them from making underage sales. Amanda\n",
            "@Tesco Uk offlicense law is 18. Not 25\n",
            "@105855 Hi Thomas, we operate a Think 25 policy at our stores. I'd be flattered to be ID'd. :-) - Helena\n",
            "Got id's @Tesco for buying one Adnams Broadside. Is being blind part of the job-spec? I am 35 and 99 kilos.\n",
            "@105856 Hi there, could you try deleting your cache and cookies and reinstalling the app if using it? This should fix the issue :) - Dani\n",
            "@Tesco Will I lose all the shopping I've done if I delete the cache/cookies (not using app)?\n",
            "@105856 Hi there, as long as you sign out of your account prior to deleting your cache &amp; cookies, you'll still have a full basket :) Thanks - Mike\n",
            "@Tesco Done all that. Still telling me there are no delivery slots whatsoever.\n",
            "@105856 Can you DM me your full name, address and email? I'd be happy to look into this further for you :) Thanks - Mike\n",
            "Hey @Tesco, your website's broken. It's telling me there are no delivery slots for the next 3 weeks, which I find slightly unlikely.\n",
            "@105857 Is there a particular app that seems to cause these issues more than others? What model iPhone are you using? Join us in DM. https://t.co/GDrqU22YpT\n",
            "@AppleSupport I have the latest version iOS. It started immediately after I updated my phone.\n",
            "@105857 We'd like to help if we can. When did this start happening? Which version of iOS are you running currently?\n",
            "My apps stop working without warning and my phone freezes every five minutes! Love the new update @76099!!!!\n",
            "@105858 Hi Agoura, thanks for tweeting. Please refer to this article: https://t.co/BSsgjZARTc &amp; click the link to reply back. ^Rashmi https://t.co/a2xkfCrUG1\n",
            "@HPSupport Problem with printhead  Serial# TH536D1HN #hpcswus #hpprnt\n",
            "@105859 UPS has a service called My Choice that will allow your packages to be delivered to UPS Store. ^ML  https://t.co/BPZKndqww1 https://t.co/wKJHDXWGRQ\n",
            "@105860 I wish Amazon had an option of where I can just get it shipped to the ups store so I can avoid a lot of the struggle\n",
            "They reschedule my shit for tomorrow https://t.co/RsvZcT982t\n",
            "@105861 Hey Sara, sorry to hear of the issues you are having, can I ask if it's the lay out or just the speed of the website responding? TY - Chris\n",
            "@Tesco bit of both - finding the layout cumbersome and when removing an item from faves - getting a huge slowdown. Not keen on the thin green line https://t.co/9281OKEebk\n",
            "@105861 If that doesn't help please DM your full name, address and email including the browser and device so we can log this. Thanks - Lee 2/2\n"
          ]
        }
      ]
    },
    {
      "cell_type": "code",
      "source": [
        "# supprimer la ponctuation\n",
        "df['text'] = df['text'].str.replace('[^\\w\\s]', '')\n",
        "for index, row in df.head(10).iterrows():\n",
        "    print(row['text'])"
      ],
      "metadata": {
        "id": "JhbRh9qtZmDh",
        "colab": {
          "base_uri": "https://localhost:8080/"
        },
        "outputId": "6bff5e53-3671-4607-c961-88f3768b0b33"
      },
      "execution_count": 64,
      "outputs": [
        {
          "output_type": "stream",
          "name": "stdout",
          "text": [
            "AppleSupport causing the reply to be disregarded and the tapped notification under the keyboard is opened\n",
            "105835 Your business means a lot to us Please DM your name zip code and additional details about your concern RR httpstcoznUu1VJn9r\n",
            "76328 I really hope you all change but Im sure you wont Because you dont have to\n",
            "105836 LiveChat is online at the moment  httpstcoSY94VtU8Kq or contact 03331 031 031 option 1 4 3 Leave a message to request a call back\n",
            "VirginTrains see attached error message Ive tried leaving a voicemail several times in the past week httpstcoNxVZjlYx1k\n",
            "105836 Have you tried from another device Miriam MM\n",
            "VirginTrains yep Ive tried laptop too several times over the past week and again today Ive tried different browsers too\n",
            "105836 Its working OK from here Miriam Does this link help httpstco0m2mpH15eh  MM\n",
            "VirginTrains I still havent heard amp the number Im directed to by phone is a dead end amp the live chat doesnt work Can someone call me\n",
            "105836 Thats what were here for Miriam   The team should send you an email shortly HP\n"
          ]
        },
        {
          "output_type": "stream",
          "name": "stderr",
          "text": [
            "<ipython-input-64-72119ddb44aa>:2: FutureWarning: The default value of regex will change from True to False in a future version.\n",
            "  df['text'] = df['text'].str.replace('[^\\w\\s]', '')\n"
          ]
        }
      ]
    },
    {
      "cell_type": "code",
      "source": [
        "# 2. Convertir le texte en minuscules\n",
        "print(\"Avant la conversion en minuscules:\")\n",
        "print(df['text'])\n",
        "df['text'] = df['text'].str.lower()\n",
        "for index, row in df.head(10).iterrows():\n",
        "    print(row['text'])\n"
      ],
      "metadata": {
        "id": "udvkc5YVaFPa",
        "colab": {
          "base_uri": "https://localhost:8080/"
        },
        "outputId": "ed3592d8-fc83-438d-efd3-78952c7e1e67"
      },
      "execution_count": 52,
      "outputs": [
        {
          "output_type": "stream",
          "name": "stdout",
          "text": [
            "Avant la conversion en minuscules:\n",
            "0     AppleSupport causing the reply to be disregard...\n",
            "1     105835 Your business means a lot to us Please ...\n",
            "2     76328 I really hope you all change but Im sure...\n",
            "3     105836 LiveChat is online at the moment  https...\n",
            "4     VirginTrains see attached error message Ive tr...\n",
            "                            ...                        \n",
            "88    105860 I wish Amazon had an option of where I ...\n",
            "89    They reschedule my shit for tomorrow httpstcoR...\n",
            "90    105861 Hey Sara sorry to hear of the issues yo...\n",
            "91    Tesco bit of both  finding the layout cumberso...\n",
            "92    105861 If that doesnt help please DM your full...\n",
            "Name: text, Length: 93, dtype: object\n",
            "applesupport causing the reply to be disregarded and the tapped notification under the keyboard is opened\n",
            "105835 your business means a lot to us please dm your name zip code and additional details about your concern rr httpstcoznuu1vjn9r\n",
            "76328 i really hope you all change but im sure you wont because you dont have to\n",
            "105836 livechat is online at the moment  httpstcosy94vtu8kq or contact 03331 031 031 option 1 4 3 leave a message to request a call back\n",
            "virgintrains see attached error message ive tried leaving a voicemail several times in the past week httpstconxvzjlyx1k\n",
            "105836 have you tried from another device miriam mm\n",
            "virgintrains yep ive tried laptop too several times over the past week and again today ive tried different browsers too\n",
            "105836 its working ok from here miriam does this link help httpstco0m2mph15eh  mm\n",
            "virgintrains i still havent heard amp the number im directed to by phone is a dead end amp the live chat doesnt work can someone call me\n",
            "105836 thats what were here for miriam   the team should send you an email shortly hp\n"
          ]
        }
      ]
    },
    {
      "cell_type": "code",
      "source": [
        "print(\"Avant la suppression des espaces supplémentaires:\")\n",
        "print(df['text'])\n",
        "print(\"Après la suppression des espaces supplémentaires:\")\n",
        "df['text'] = df['text'].str.strip()\n",
        "for index, row in df.head(10).iterrows():\n",
        "    print(row['text'])"
      ],
      "metadata": {
        "id": "D2GjDGrFaTd4",
        "colab": {
          "base_uri": "https://localhost:8080/"
        },
        "outputId": "d9254791-9736-4747-e101-c92601f8fd5e"
      },
      "execution_count": 65,
      "outputs": [
        {
          "output_type": "stream",
          "name": "stdout",
          "text": [
            "Avant la suppression des espaces supplémentaires:\n",
            "0     AppleSupport causing the reply to be disregard...\n",
            "1     105835 Your business means a lot to us Please ...\n",
            "2     76328 I really hope you all change but Im sure...\n",
            "3     105836 LiveChat is online at the moment  https...\n",
            "4     VirginTrains see attached error message Ive tr...\n",
            "                            ...                        \n",
            "88    105860 I wish Amazon had an option of where I ...\n",
            "89    They reschedule my shit for tomorrow httpstcoR...\n",
            "90    105861 Hey Sara sorry to hear of the issues yo...\n",
            "91    Tesco bit of both  finding the layout cumberso...\n",
            "92    105861 If that doesnt help please DM your full...\n",
            "Name: text, Length: 93, dtype: object\n",
            "Après la suppression des espaces supplémentaires:\n",
            "AppleSupport causing the reply to be disregarded and the tapped notification under the keyboard is opened\n",
            "105835 Your business means a lot to us Please DM your name zip code and additional details about your concern RR httpstcoznUu1VJn9r\n",
            "76328 I really hope you all change but Im sure you wont Because you dont have to\n",
            "105836 LiveChat is online at the moment  httpstcoSY94VtU8Kq or contact 03331 031 031 option 1 4 3 Leave a message to request a call back\n",
            "VirginTrains see attached error message Ive tried leaving a voicemail several times in the past week httpstcoNxVZjlYx1k\n",
            "105836 Have you tried from another device Miriam MM\n",
            "VirginTrains yep Ive tried laptop too several times over the past week and again today Ive tried different browsers too\n",
            "105836 Its working OK from here Miriam Does this link help httpstco0m2mpH15eh  MM\n",
            "VirginTrains I still havent heard amp the number Im directed to by phone is a dead end amp the live chat doesnt work Can someone call me\n",
            "105836 Thats what were here for Miriam   The team should send you an email shortly HP\n"
          ]
        }
      ]
    },
    {
      "cell_type": "code",
      "source": [
        "# 4. Supprimer les stopwords\n",
        "print(\"Avant la suppression des stopwords:\")\n",
        "print(df['text'])\n",
        "stop_words = set(stopwords.words('english'))\n",
        "df['text'] = df['text'].apply(lambda x: ' '.join([word for word in x.split() if word not in stop_words]))\n",
        "print(\"Après la suppression des stopwords:\")\n",
        "print(df['text'])\n"
      ],
      "metadata": {
        "id": "HjQbL6gMbCH2",
        "colab": {
          "base_uri": "https://localhost:8080/"
        },
        "outputId": "dc82a1dc-2d6e-46c9-918a-3cd97f0ac8bb"
      },
      "execution_count": 66,
      "outputs": [
        {
          "output_type": "stream",
          "name": "stdout",
          "text": [
            "Avant la suppression des stopwords:\n",
            "0     AppleSupport causing the reply to be disregard...\n",
            "1     105835 Your business means a lot to us Please ...\n",
            "2     76328 I really hope you all change but Im sure...\n",
            "3     105836 LiveChat is online at the moment  https...\n",
            "4     VirginTrains see attached error message Ive tr...\n",
            "                            ...                        \n",
            "88    105860 I wish Amazon had an option of where I ...\n",
            "89    They reschedule my shit for tomorrow httpstcoR...\n",
            "90    105861 Hey Sara sorry to hear of the issues yo...\n",
            "91    Tesco bit of both  finding the layout cumberso...\n",
            "92    105861 If that doesnt help please DM your full...\n",
            "Name: text, Length: 93, dtype: object\n",
            "Après la suppression des stopwords:\n",
            "0     AppleSupport causing reply disregarded tapped ...\n",
            "1     105835 Your business means lot us Please DM na...\n",
            "2     76328 I really hope change Im sure wont Becaus...\n",
            "3     105836 LiveChat online moment httpstcoSY94VtU8...\n",
            "4     VirginTrains see attached error message Ive tr...\n",
            "                            ...                        \n",
            "88    105860 I wish Amazon option I get shipped ups ...\n",
            "89     They reschedule shit tomorrow httpstcoRsvZcT982t\n",
            "90    105861 Hey Sara sorry hear issues I ask lay sp...\n",
            "91    Tesco bit finding layout cumbersome removing i...\n",
            "92    105861 If doesnt help please DM full name addr...\n",
            "Name: text, Length: 93, dtype: object\n"
          ]
        }
      ]
    },
    {
      "cell_type": "code",
      "source": [
        "# Remove numbers\n",
        "df['text'] = df['text'].str.replace('\\d', '')\n",
        "for index, row in df.head(10).iterrows():\n",
        "    print(row['text'])"
      ],
      "metadata": {
        "colab": {
          "base_uri": "https://localhost:8080/"
        },
        "id": "CjTQtKru-l32",
        "outputId": "2de18c24-5151-4179-c74d-3c56ed49f916"
      },
      "execution_count": 67,
      "outputs": [
        {
          "output_type": "stream",
          "name": "stdout",
          "text": [
            "AppleSupport causing reply disregarded tapped notification keyboard opened\n",
            " Your business means lot us Please DM name zip code additional details concern RR httpstcoznUuVJnr\n",
            " I really hope change Im sure wont Because dont\n",
            " LiveChat online moment httpstcoSYVtUKq contact    option    Leave message request call back\n",
            "VirginTrains see attached error message Ive tried leaving voicemail several times past week httpstcoNxVZjlYxk\n",
            " Have tried another device Miriam MM\n",
            "VirginTrains yep Ive tried laptop several times past week today Ive tried different browsers\n",
            " Its working OK Miriam Does link help httpstcommpHeh MM\n",
            "VirginTrains I still havent heard amp number Im directed phone dead end amp live chat doesnt work Can someone call\n",
            " Thats Miriam The team send email shortly HP\n"
          ]
        },
        {
          "output_type": "stream",
          "name": "stderr",
          "text": [
            "<ipython-input-67-83c6855ddb50>:2: FutureWarning: The default value of regex will change from True to False in a future version.\n",
            "  df['text'] = df['text'].str.replace('\\d', '')\n"
          ]
        }
      ]
    },
    {
      "cell_type": "code",
      "source": [
        "#Tokenization\n",
        "df['text'] = df['text'].apply(word_tokenize)\n",
        "for index, row in df.head(10).iterrows():\n",
        "    print(row['text'])"
      ],
      "metadata": {
        "id": "ZB2_Jy3UbCMQ",
        "colab": {
          "base_uri": "https://localhost:8080/"
        },
        "outputId": "81df1ccb-b5ea-464b-86bc-665420d7a1b7"
      },
      "execution_count": 55,
      "outputs": [
        {
          "output_type": "stream",
          "name": "stdout",
          "text": [
            "['applesupport', 'causing', 'reply', 'disregarded', 'tapped', 'notification', 'keyboard', 'opened']\n",
            "['105835', 'business', 'means', 'lot', 'us', 'please', 'dm', 'name', 'zip', 'code', 'additional', 'details', 'concern', 'rr', 'httpstcoznuu1vjn9r']\n",
            "['76328', 'really', 'hope', 'change', 'im', 'sure', 'wont', 'dont']\n",
            "['105836', 'livechat', 'online', 'moment', 'httpstcosy94vtu8kq', 'contact', '03331', '031', '031', 'option', '1', '4', '3', 'leave', 'message', 'request', 'call', 'back']\n",
            "['virgintrains', 'see', 'attached', 'error', 'message', 'ive', 'tried', 'leaving', 'voicemail', 'several', 'times', 'past', 'week', 'httpstconxvzjlyx1k']\n",
            "['105836', 'tried', 'another', 'device', 'miriam', 'mm']\n",
            "['virgintrains', 'yep', 'ive', 'tried', 'laptop', 'several', 'times', 'past', 'week', 'today', 'ive', 'tried', 'different', 'browsers']\n",
            "['105836', 'working', 'ok', 'miriam', 'link', 'help', 'httpstco0m2mph15eh', 'mm']\n",
            "['virgintrains', 'still', 'havent', 'heard', 'amp', 'number', 'im', 'directed', 'phone', 'dead', 'end', 'amp', 'live', 'chat', 'doesnt', 'work', 'someone', 'call']\n",
            "['105836', 'thats', 'miriam', 'team', 'send', 'email', 'shortly', 'hp']\n"
          ]
        }
      ]
    },
    {
      "cell_type": "code",
      "source": [
        "# Lemmatization\n",
        "lemmatizer = WordNetLemmatizer()\n",
        "df['text'] = df['text'].apply(lambda tokens: [lemmatizer.lemmatize(token) for token in tokens])\n",
        "for index, row in df.head(10).iterrows():\n",
        "    print(row['text'])"
      ],
      "metadata": {
        "colab": {
          "base_uri": "https://localhost:8080/"
        },
        "id": "ilelE5bqjQP4",
        "outputId": "3c372952-8b8c-4d27-873d-20514db3a25b"
      },
      "execution_count": 56,
      "outputs": [
        {
          "output_type": "stream",
          "name": "stdout",
          "text": [
            "['applesupport', 'causing', 'reply', 'disregarded', 'tapped', 'notification', 'keyboard', 'opened']\n",
            "['105835', 'business', 'mean', 'lot', 'u', 'please', 'dm', 'name', 'zip', 'code', 'additional', 'detail', 'concern', 'rr', 'httpstcoznuu1vjn9r']\n",
            "['76328', 'really', 'hope', 'change', 'im', 'sure', 'wont', 'dont']\n",
            "['105836', 'livechat', 'online', 'moment', 'httpstcosy94vtu8kq', 'contact', '03331', '031', '031', 'option', '1', '4', '3', 'leave', 'message', 'request', 'call', 'back']\n",
            "['virgintrains', 'see', 'attached', 'error', 'message', 'ive', 'tried', 'leaving', 'voicemail', 'several', 'time', 'past', 'week', 'httpstconxvzjlyx1k']\n",
            "['105836', 'tried', 'another', 'device', 'miriam', 'mm']\n",
            "['virgintrains', 'yep', 'ive', 'tried', 'laptop', 'several', 'time', 'past', 'week', 'today', 'ive', 'tried', 'different', 'browser']\n",
            "['105836', 'working', 'ok', 'miriam', 'link', 'help', 'httpstco0m2mph15eh', 'mm']\n",
            "['virgintrains', 'still', 'havent', 'heard', 'amp', 'number', 'im', 'directed', 'phone', 'dead', 'end', 'amp', 'live', 'chat', 'doesnt', 'work', 'someone', 'call']\n",
            "['105836', 'thats', 'miriam', 'team', 'send', 'email', 'shortly', 'hp']\n"
          ]
        }
      ]
    },
    {
      "cell_type": "code",
      "source": [
        "# Join the lemmatized tokens to form paragraphs\n",
        "df['paragraph'] = df['text'].apply(lambda tokens: ' '.join(tokens))\n",
        "\n",
        "# Print the paragraphs\n",
        "for paragraph in df['paragraph']:\n",
        "    print(paragraph)"
      ],
      "metadata": {
        "colab": {
          "base_uri": "https://localhost:8080/"
        },
        "id": "inW01eMOClzi",
        "outputId": "c5b72f13-b368-4967-c8f8-44baf7f1d1d3"
      },
      "execution_count": 57,
      "outputs": [
        {
          "output_type": "stream",
          "name": "stdout",
          "text": [
            "applesupport causing reply disregarded tapped notification keyboard opened\n",
            "105835 business mean lot u please dm name zip code additional detail concern rr httpstcoznuu1vjn9r\n",
            "76328 really hope change im sure wont dont\n",
            "105836 livechat online moment httpstcosy94vtu8kq contact 03331 031 031 option 1 4 3 leave message request call back\n",
            "virgintrains see attached error message ive tried leaving voicemail several time past week httpstconxvzjlyx1k\n",
            "105836 tried another device miriam mm\n",
            "virgintrains yep ive tried laptop several time past week today ive tried different browser\n",
            "105836 working ok miriam link help httpstco0m2mph15eh mm\n",
            "virgintrains still havent heard amp number im directed phone dead end amp live chat doesnt work someone call\n",
            "105836 thats miriam team send email shortly hp\n",
            "105837 help version io find setting gt general gt reply dm httpstcogdrqu22ypt\n",
            "105838 applesupport suffering hope find solution\n",
            "applesupport hi apple ive concern latest io slow iphone6 happy solution please\n",
            "105839 thanks reaching u always happy help send u dm look together httpstcogdrqu22ypt\n",
            "updated phone suddenly everything take age load wtf 76099 update sux hate fix bye\n",
            "105840 hi device happening could also let u know android spotify version youre using thatd great ay\n",
            "spotifycares thanks version 8422857 armv7 anker bluetooth speaker samsung galaxy tab 2016 model smt280 distance speaker matter\n",
            "105840 thanks distance could possibly affect playback logging gt restarting device gt logging back make difference ay\n",
            "spotifycares ive moved speaker 1 metre away skipping mo 3 4 metre away finger crossed\n",
            "105840 thats great hear anything come let u know well carry helping ay\n",
            "spotifycares brilliant thanks\n",
            "105840 youre welcome there anything else help give u shout cp\n",
            "76495 91226 please help spotify premium skipping song constantly android tablet amp bluetooth speaker tried everything\n",
            "105841 wed love help please dm u let u know step youve tried since experiencing behavior httpstcogdrqu22ypt\n",
            "applesupport 1102 phone suck apps broken wifi disconnect frequently apple ios1102 painfulupdate\n",
            "105842 sorry flight delayed beatner travelling ba8733 updated departure time 1530 12\n",
            "first flight long time british_airways one 1h delay short jump fralcy one provide status update\n",
            "105843 battery life important dm u io version iphone running well go httpstcogdrqu22ypt\n",
            "okay 76099 used fucking phone 2 minute drain 8 fucking percent\n",
            "105844 thanks reaching u always happy help send u dm look together httpstcogdrqu22ypt\n",
            "applesupport get iphone 7plus back old io please battery run half time apps frequently crash\n",
            "105844 wed happy help send u dm start httpstcogdrqu22ypt\n",
            "youve paralysed phone update 76099 grrrrrrrrrr\n",
            "82476 wed like help sam number calling please dm u info advise httpstco5pyldjbc6r\n",
            "o2 received week ago since ive getting 23 call day telemarketer someone using name httpstcogltz4xhcex\n",
            "105845 understand frustrating experience please send dm account information look matter ad\n",
            "internet xfinity talkin 2472 hour yall game messed 77245\n",
            "105676 understand frustrated situation please follow u sending dm assistance sprint care ac\n",
            "76803 service last 40 min sprint get refund httpstcowypw9hp6wt\n",
            "105846 wed like help happens try listen apple music amp use whatsapp music pause let u know dm httpstcogdrqu22ypt\n",
            "new 76099 update let listen music go whatsapp time\n",
            "105847 hi harry help check logging gt restarting device gt logging back make difference keep u posted mu\n",
            "spotifycares seems working stage let know happens cheer\n",
            "105847 sure thing well keep eye update mu\n",
            "spotifycares problem come back today kind bug\n",
            "105847 thanks giving u nudge device operating system spotify version happening ay\n",
            "spotifycares macbook air early 2014 running high sierra spotify version 1065320gac7a8e02\n",
            "105847 got try step u httpstcoeqisdmwzat help let u know play ay\n",
            "spotifycares ive issue playback song stopping midway wont restart unless close reopen app\n",
            "105848 let take look exact io youre using using specific apps noticing dm u reply httpstcogdrqu22ypt\n",
            "applesupport latest version read help page turned virtually apps location svs typing dropped 3 life\n",
            "applesupport super help problem solved love apple\n",
            "applesupport ios11update still killing battery within 12 hour phone 10 month old disgrace used get 2 day\n",
            "105849 thanks reaching u always happy help send u dm look together httpstcogdrqu22ypt\n",
            "took phone charge 720am 803am 60 battery remaining 76099 plz beg sort battery life\n",
            "105850 point load hit number get immediately youll even receive congrats email almost ac\n",
            "southwestair thank answer\n",
            "southwestair curiouswill get companion pas exact moment get enough point wait thanks\n",
            "105851 wed like provide assistance tell u issue youre experiencing dm well go httpstcogdrqu22ypt\n",
            "applesupport need new code istore havent recd msg many sent help\n",
            "105852 experiencing issue device dm u whats going well see help httpstcogdrqu22ypt\n",
            "76099 applesupport fix update horrible\n",
            "105842 appreciate 1530 hopefully depart soon sorry inconvenience delay caused 22 jr\n",
            "british_airways thanks answer response onsite aircraft depart today rebooking 105853 4h delay\n",
            "105842 sorry hear hope get everything sorted kind regard jools\n",
            "105854 sorry poor experience please dm full service address name account as httpstcojezhqgdbmd\n",
            "ask_spectrum yard ive called 45 time 6 week im customer pretty tempting coaxial\n",
            "76501 guess mean free cable neighborhood httpstcofbgee9yxpm\n",
            "105855 hi thomas colleague belief person buying alcohol look 25 challenged id prove theyre age paige\n",
            "tesco maybe hire colleague see\n",
            "tesco point enforced properly dont plus take commonsense think person look 18\n",
            "105855 hi thomas correct help store colleague judge age protect making underage sale amanda\n",
            "tesco uk offlicense law 18 25\n",
            "105855 hi thomas operate think 25 policy store id flattered idd helena\n",
            "got id tesco buying one adnams broadside blind part jobspec 35 99 kilo\n",
            "105856 hi could try deleting cache cooky reinstalling app using fix issue dani\n",
            "tesco lose shopping ive done delete cachecookies using app\n",
            "105856 hi long sign account prior deleting cache amp cooky youll still full basket thanks mike\n",
            "tesco done still telling delivery slot whatsoever\n",
            "105856 dm full name address email id happy look thanks mike\n",
            "hey tesco website broken telling delivery slot next 3 week find slightly unlikely\n",
            "105857 particular app seems cause issue others model iphone using join u dm httpstcogdrqu22ypt\n",
            "applesupport latest version io started immediately updated phone\n",
            "105857 wed like help start happening version io running currently\n",
            "apps stop working without warning phone freeze every five minute love new update 76099\n",
            "105858 hi agoura thanks tweeting please refer article httpstcobssgjzartc amp click link reply back rashmi httpstcoa2xkfcrug1\n",
            "hpsupport problem printhead serial th536d1hn hpcswus hpprnt\n",
            "105859 ups service called choice allow package delivered ups store ml httpstcobpzkndqww1 httpstcowkjhdxwgrq\n",
            "105860 wish amazon option get shipped ups store avoid lot struggle\n",
            "reschedule shit tomorrow httpstcorsvzct982t\n",
            "105861 hey sara sorry hear issue ask lay speed website responding ty chris\n",
            "tesco bit finding layout cumbersome removing item faves getting huge slowdown keen thin green line httpstco9281okeebk\n",
            "105861 doesnt help please dm full name address email including browser device log thanks lee 22\n"
          ]
        }
      ]
    }
  ]
}